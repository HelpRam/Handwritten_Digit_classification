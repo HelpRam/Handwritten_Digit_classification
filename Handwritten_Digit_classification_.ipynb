{
  "nbformat": 4,
  "nbformat_minor": 0,
  "metadata": {
    "colab": {
      "provenance": [],
      "gpuType": "T4"
    },
    "kernelspec": {
      "name": "python3",
      "display_name": "Python 3"
    },
    "language_info": {
      "name": "python"
    },
    "accelerator": "GPU"
  },
  "cells": [
    {
      "cell_type": "code",
      "execution_count": 1,
      "metadata": {
        "id": "BZ6_6vmX5y6R"
      },
      "outputs": [],
      "source": [
        "import tensorflow\n",
        "from tensorflow import keras\n",
        "from tensorflow.keras import Sequential\n",
        "from tensorflow.keras.layers import Dense, Flatten"
      ]
    },
    {
      "cell_type": "code",
      "source": [
        "(X_train,y_train),(X_test,y_test) = keras.datasets.mnist.load_data()"
      ],
      "metadata": {
        "colab": {
          "base_uri": "https://localhost:8080/"
        },
        "id": "Wvql4Sqd7ViH",
        "outputId": "fe07a3a0-9e7d-4d10-e882-33e261e974ca"
      },
      "execution_count": 2,
      "outputs": [
        {
          "output_type": "stream",
          "name": "stdout",
          "text": [
            "Downloading data from https://storage.googleapis.com/tensorflow/tf-keras-datasets/mnist.npz\n",
            "11490434/11490434 [==============================] - 0s 0us/step\n"
          ]
        }
      ]
    },
    {
      "cell_type": "code",
      "source": [
        "X_train.shape"
      ],
      "metadata": {
        "colab": {
          "base_uri": "https://localhost:8080/"
        },
        "id": "nFxulYfI7ky3",
        "outputId": "ece33d9f-591c-4e2e-9a42-a9aad1f21e31"
      },
      "execution_count": 3,
      "outputs": [
        {
          "output_type": "execute_result",
          "data": {
            "text/plain": [
              "(60000, 28, 28)"
            ]
          },
          "metadata": {},
          "execution_count": 3
        }
      ]
    },
    {
      "cell_type": "code",
      "source": [
        "X_train"
      ],
      "metadata": {
        "colab": {
          "base_uri": "https://localhost:8080/"
        },
        "id": "l5eU5yQW7qLV",
        "outputId": "1708f44f-6bac-4117-8a86-dfa36ff30a26"
      },
      "execution_count": 5,
      "outputs": [
        {
          "output_type": "execute_result",
          "data": {
            "text/plain": [
              "array([[[0, 0, 0, ..., 0, 0, 0],\n",
              "        [0, 0, 0, ..., 0, 0, 0],\n",
              "        [0, 0, 0, ..., 0, 0, 0],\n",
              "        ...,\n",
              "        [0, 0, 0, ..., 0, 0, 0],\n",
              "        [0, 0, 0, ..., 0, 0, 0],\n",
              "        [0, 0, 0, ..., 0, 0, 0]],\n",
              "\n",
              "       [[0, 0, 0, ..., 0, 0, 0],\n",
              "        [0, 0, 0, ..., 0, 0, 0],\n",
              "        [0, 0, 0, ..., 0, 0, 0],\n",
              "        ...,\n",
              "        [0, 0, 0, ..., 0, 0, 0],\n",
              "        [0, 0, 0, ..., 0, 0, 0],\n",
              "        [0, 0, 0, ..., 0, 0, 0]],\n",
              "\n",
              "       [[0, 0, 0, ..., 0, 0, 0],\n",
              "        [0, 0, 0, ..., 0, 0, 0],\n",
              "        [0, 0, 0, ..., 0, 0, 0],\n",
              "        ...,\n",
              "        [0, 0, 0, ..., 0, 0, 0],\n",
              "        [0, 0, 0, ..., 0, 0, 0],\n",
              "        [0, 0, 0, ..., 0, 0, 0]],\n",
              "\n",
              "       ...,\n",
              "\n",
              "       [[0, 0, 0, ..., 0, 0, 0],\n",
              "        [0, 0, 0, ..., 0, 0, 0],\n",
              "        [0, 0, 0, ..., 0, 0, 0],\n",
              "        ...,\n",
              "        [0, 0, 0, ..., 0, 0, 0],\n",
              "        [0, 0, 0, ..., 0, 0, 0],\n",
              "        [0, 0, 0, ..., 0, 0, 0]],\n",
              "\n",
              "       [[0, 0, 0, ..., 0, 0, 0],\n",
              "        [0, 0, 0, ..., 0, 0, 0],\n",
              "        [0, 0, 0, ..., 0, 0, 0],\n",
              "        ...,\n",
              "        [0, 0, 0, ..., 0, 0, 0],\n",
              "        [0, 0, 0, ..., 0, 0, 0],\n",
              "        [0, 0, 0, ..., 0, 0, 0]],\n",
              "\n",
              "       [[0, 0, 0, ..., 0, 0, 0],\n",
              "        [0, 0, 0, ..., 0, 0, 0],\n",
              "        [0, 0, 0, ..., 0, 0, 0],\n",
              "        ...,\n",
              "        [0, 0, 0, ..., 0, 0, 0],\n",
              "        [0, 0, 0, ..., 0, 0, 0],\n",
              "        [0, 0, 0, ..., 0, 0, 0]]], dtype=uint8)"
            ]
          },
          "metadata": {},
          "execution_count": 5
        }
      ]
    },
    {
      "cell_type": "code",
      "source": [
        "y_train"
      ],
      "metadata": {
        "colab": {
          "base_uri": "https://localhost:8080/"
        },
        "id": "FRZInTUh72Wn",
        "outputId": "28c2d7cd-614d-4a78-db10-976320d488c2"
      },
      "execution_count": 6,
      "outputs": [
        {
          "output_type": "execute_result",
          "data": {
            "text/plain": [
              "array([5, 0, 4, ..., 5, 6, 8], dtype=uint8)"
            ]
          },
          "metadata": {},
          "execution_count": 6
        }
      ]
    },
    {
      "cell_type": "code",
      "source": [
        "import matplotlib.pyplot as plt\n",
        "\n",
        "plt.imshow(X_train[2])"
      ],
      "metadata": {
        "colab": {
          "base_uri": "https://localhost:8080/",
          "height": 447
        },
        "id": "4aIyveys728a",
        "outputId": "b07252bb-e8c2-4257-a9ea-c67f8746f779"
      },
      "execution_count": 9,
      "outputs": [
        {
          "output_type": "execute_result",
          "data": {
            "text/plain": [
              "<matplotlib.image.AxesImage at 0x79298b4c0310>"
            ]
          },
          "metadata": {},
          "execution_count": 9
        },
        {
          "output_type": "display_data",
          "data": {
            "text/plain": [
              "<Figure size 640x480 with 1 Axes>"
            ],
            "image/png": "[encoded data removed]"
          },
          "metadata": {}
        }
      ]
    },
    {
      "cell_type": "code",
      "source": [
        "X_train[0]"
      ],
      "metadata": {
        "colab": {
          "base_uri": "https://localhost:8080/"
        },
        "id": "aDIIcpeO73AD",
        "outputId": "a8fbaffb-257d-446f-9b5b-8a458276279f"
      },
      "execution_count": 11,
      "outputs": [
        {
          "output_type": "execute_result",
          "data": {
            "text/plain": [
              "array([[  0,   0,   0,   0,   0,   0,   0,   0,   0,   0,   0,   0,   0,\n",
              "          0,   0,   0,   0,   0,   0,   0,   0,   0,   0,   0,   0,   0,\n",
              "          0,   0],\n",
              "       [  0,   0,   0,   0,   0,   0,   0,   0,   0,   0,   0,   0,   0,\n",
              "          0,   0,   0,   0,   0,   0,   0,   0,   0,   0,   0,   0,   0,\n",
              "          0,   0],\n",
              "       [  0,   0,   0,   0,   0,   0,   0,   0,   0,   0,   0,   0,   0,\n",
              "          0,   0,   0,   0,   0,   0,   0,   0,   0,   0,   0,   0,   0,\n",
              "          0,   0],\n",
              "       [  0,   0,   0,   0,   0,   0,   0,   0,   0,   0,   0,   0,   0,\n",
              "          0,   0,   0,   0,   0,   0,   0,   0,   0,   0,   0,   0,   0,\n",
              "          0,   0],\n",
              "       [  0,   0,   0,   0,   0,   0,   0,   0,   0,   0,   0,   0,   0,\n",
              "          0,   0,   0,   0,   0,   0,   0,   0,   0,   0,   0,   0,   0,\n",
              "          0,   0],\n",
              "       [  0,   0,   0,   0,   0,   0,   0,   0,   0,   0,   0,   0,   3,\n",
              "         18,  18,  18, 126, 136, 175,  26, 166, 255, 247, 127,   0,   0,\n",
              "          0,   0],\n",
              "       [  0,   0,   0,   0,   0,   0,   0,   0,  30,  36,  94, 154, 170,\n",
              "        253, 253, 253, 253, 253, 225, 172, 253, 242, 195,  64,   0,   0,\n",
              "          0,   0],\n",
              "       [  0,   0,   0,   0,   0,   0,   0,  49, 238, 253, 253, 253, 253,\n",
              "        253, 253, 253, 253, 251,  93,  82,  82,  56,  39,   0,   0,   0,\n",
              "          0,   0],\n",
              "       [  0,   0,   0,   0,   0,   0,   0,  18, 219, 253, 253, 253, 253,\n",
              "        253, 198, 182, 247, 241,   0,   0,   0,   0,   0,   0,   0,   0,\n",
              "          0,   0],\n",
              "       [  0,   0,   0,   0,   0,   0,   0,   0,  80, 156, 107, 253, 253,\n",
              "        205,  11,   0,  43, 154,   0,   0,   0,   0,   0,   0,   0,   0,\n",
              "          0,   0],\n",
              "       [  0,   0,   0,   0,   0,   0,   0,   0,   0,  14,   1, 154, 253,\n",
              "         90,   0,   0,   0,   0,   0,   0,   0,   0,   0,   0,   0,   0,\n",
              "          0,   0],\n",
              "       [  0,   0,   0,   0,   0,   0,   0,   0,   0,   0,   0, 139, 253,\n",
              "        190,   2,   0,   0,   0,   0,   0,   0,   0,   0,   0,   0,   0,\n",
              "          0,   0],\n",
              "       [  0,   0,   0,   0,   0,   0,   0,   0,   0,   0,   0,  11, 190,\n",
              "        253,  70,   0,   0,   0,   0,   0,   0,   0,   0,   0,   0,   0,\n",
              "          0,   0],\n",
              "       [  0,   0,   0,   0,   0,   0,   0,   0,   0,   0,   0,   0,  35,\n",
              "        241, 225, 160, 108,   1,   0,   0,   0,   0,   0,   0,   0,   0,\n",
              "          0,   0],\n",
              "       [  0,   0,   0,   0,   0,   0,   0,   0,   0,   0,   0,   0,   0,\n",
              "         81, 240, 253, 253, 119,  25,   0,   0,   0,   0,   0,   0,   0,\n",
              "          0,   0],\n",
              "       [  0,   0,   0,   0,   0,   0,   0,   0,   0,   0,   0,   0,   0,\n",
              "          0,  45, 186, 253, 253, 150,  27,   0,   0,   0,   0,   0,   0,\n",
              "          0,   0],\n",
              "       [  0,   0,   0,   0,   0,   0,   0,   0,   0,   0,   0,   0,   0,\n",
              "          0,   0,  16,  93, 252, 253, 187,   0,   0,   0,   0,   0,   0,\n",
              "          0,   0],\n",
              "       [  0,   0,   0,   0,   0,   0,   0,   0,   0,   0,   0,   0,   0,\n",
              "          0,   0,   0,   0, 249, 253, 249,  64,   0,   0,   0,   0,   0,\n",
              "          0,   0],\n",
              "       [  0,   0,   0,   0,   0,   0,   0,   0,   0,   0,   0,   0,   0,\n",
              "          0,  46, 130, 183, 253, 253, 207,   2,   0,   0,   0,   0,   0,\n",
              "          0,   0],\n",
              "       [  0,   0,   0,   0,   0,   0,   0,   0,   0,   0,   0,   0,  39,\n",
              "        148, 229, 253, 253, 253, 250, 182,   0,   0,   0,   0,   0,   0,\n",
              "          0,   0],\n",
              "       [  0,   0,   0,   0,   0,   0,   0,   0,   0,   0,  24, 114, 221,\n",
              "        253, 253, 253, 253, 201,  78,   0,   0,   0,   0,   0,   0,   0,\n",
              "          0,   0],\n",
              "       [  0,   0,   0,   0,   0,   0,   0,   0,  23,  66, 213, 253, 253,\n",
              "        253, 253, 198,  81,   2,   0,   0,   0,   0,   0,   0,   0,   0,\n",
              "          0,   0],\n",
              "       [  0,   0,   0,   0,   0,   0,  18, 171, 219, 253, 253, 253, 253,\n",
              "        195,  80,   9,   0,   0,   0,   0,   0,   0,   0,   0,   0,   0,\n",
              "          0,   0],\n",
              "       [  0,   0,   0,   0,  55, 172, 226, 253, 253, 253, 253, 244, 133,\n",
              "         11,   0,   0,   0,   0,   0,   0,   0,   0,   0,   0,   0,   0,\n",
              "          0,   0],\n",
              "       [  0,   0,   0,   0, 136, 253, 253, 253, 212, 135, 132,  16,   0,\n",
              "          0,   0,   0,   0,   0,   0,   0,   0,   0,   0,   0,   0,   0,\n",
              "          0,   0],\n",
              "       [  0,   0,   0,   0,   0,   0,   0,   0,   0,   0,   0,   0,   0,\n",
              "          0,   0,   0,   0,   0,   0,   0,   0,   0,   0,   0,   0,   0,\n",
              "          0,   0],\n",
              "       [  0,   0,   0,   0,   0,   0,   0,   0,   0,   0,   0,   0,   0,\n",
              "          0,   0,   0,   0,   0,   0,   0,   0,   0,   0,   0,   0,   0,\n",
              "          0,   0],\n",
              "       [  0,   0,   0,   0,   0,   0,   0,   0,   0,   0,   0,   0,   0,\n",
              "          0,   0,   0,   0,   0,   0,   0,   0,   0,   0,   0,   0,   0,\n",
              "          0,   0]], dtype=uint8)"
            ]
          },
          "metadata": {},
          "execution_count": 11
        }
      ]
    },
    {
      "cell_type": "code",
      "source": [
        "X_train = X_train/255\n",
        "X_test = X_test/255"
      ],
      "metadata": {
        "id": "zJw-6sry86pL"
      },
      "execution_count": 12,
      "outputs": []
    },
    {
      "cell_type": "code",
      "source": [],
      "metadata": {
        "id": "x2WOYL_Z9LMX"
      },
      "execution_count": null,
      "outputs": []
    },
    {
      "cell_type": "code",
      "source": [],
      "metadata": {
        "id": "oJN5E9ic9Mn-"
      },
      "execution_count": null,
      "outputs": []
    },
    {
      "cell_type": "code",
      "source": [
        "X_train[0]"
      ],
      "metadata": {
        "colab": {
          "base_uri": "https://localhost:8080/"
        },
        "id": "7UjmKZYp9G6c",
        "outputId": "9ba62f08-b46f-4206-d625-a0ebd615e975"
      },
      "execution_count": 14,
      "outputs": [
        {
          "output_type": "execute_result",
          "data": {
            "text/plain": [
              "array([[0.        , 0.        , 0.        , 0.        , 0.        ,\n",
              "        0.        , 0.        , 0.        , 0.        , 0.        ,\n",
              "        0.        , 0.        , 0.        , 0.        , 0.        ,\n",
              "        0.        , 0.        , 0.        , 0.        , 0.        ,\n",
              "        0.        , 0.        , 0.        , 0.        , 0.        ,\n",
              "        0.        , 0.        , 0.        ],\n",
              "       [0.        , 0.        , 0.        , 0.        , 0.        ,\n",
              "        0.        , 0.        , 0.        , 0.        , 0.        ,\n",
              "        0.        , 0.        , 0.        , 0.        , 0.        ,\n",
              "        0.        , 0.        , 0.        , 0.        , 0.        ,\n",
              "        0.        , 0.        , 0.        , 0.        , 0.        ,\n",
              "        0.        , 0.        , 0.        ],\n",
              "       [0.        , 0.        , 0.        , 0.        , 0.        ,\n",
              "        0.        , 0.        , 0.        , 0.        , 0.        ,\n",
              "        0.        , 0.        , 0.        , 0.        , 0.        ,\n",
              "        0.        , 0.        , 0.        , 0.        , 0.        ,\n",
              "        0.        , 0.        , 0.        , 0.        , 0.        ,\n",
              "        0.        , 0.        , 0.        ],\n",
              "       [0.        , 0.        , 0.        , 0.        , 0.        ,\n",
              "        0.        , 0.        , 0.        , 0.        , 0.        ,\n",
              "        0.        , 0.        , 0.        , 0.        , 0.        ,\n",
              "        0.        , 0.        , 0.        , 0.        , 0.        ,\n",
              "        0.        , 0.        , 0.        , 0.        , 0.        ,\n",
              "        0.        , 0.        , 0.        ],\n",
              "       [0.        , 0.        , 0.        , 0.        , 0.        ,\n",
              "        0.        , 0.        , 0.        , 0.        , 0.        ,\n",
              "        0.        , 0.        , 0.        , 0.        , 0.        ,\n",
              "        0.        , 0.        , 0.        , 0.        , 0.        ,\n",
              "        0.        , 0.        , 0.        , 0.        , 0.        ,\n",
              "        0.        , 0.        , 0.        ],\n",
              "       [0.        , 0.        , 0.        , 0.        , 0.        ,\n",
              "        0.        , 0.        , 0.        , 0.        , 0.        ,\n",
              "        0.        , 0.        , 0.01176471, 0.07058824, 0.07058824,\n",
              "        0.07058824, 0.49411765, 0.53333333, 0.68627451, 0.10196078,\n",
              "        0.65098039, 1.        , 0.96862745, 0.49803922, 0.        ,\n",
              "        0.        , 0.        , 0.        ],\n",
              "       [0.        , 0.        , 0.        , 0.        , 0.        ,\n",
              "        0.        , 0.        , 0.        , 0.11764706, 0.14117647,\n",
              "        0.36862745, 0.60392157, 0.66666667, 0.99215686, 0.99215686,\n",
              "        0.99215686, 0.99215686, 0.99215686, 0.88235294, 0.6745098 ,\n",
              "        0.99215686, 0.94901961, 0.76470588, 0.25098039, 0.        ,\n",
              "        0.        , 0.        , 0.        ],\n",
              "       [0.        , 0.        , 0.        , 0.        , 0.        ,\n",
              "        0.        , 0.        , 0.19215686, 0.93333333, 0.99215686,\n",
              "        0.99215686, 0.99215686, 0.99215686, 0.99215686, 0.99215686,\n",
              "        0.99215686, 0.99215686, 0.98431373, 0.36470588, 0.32156863,\n",
              "        0.32156863, 0.21960784, 0.15294118, 0.        , 0.        ,\n",
              "        0.        , 0.        , 0.        ],\n",
              "       [0.        , 0.        , 0.        , 0.        , 0.        ,\n",
              "        0.        , 0.        , 0.07058824, 0.85882353, 0.99215686,\n",
              "        0.99215686, 0.99215686, 0.99215686, 0.99215686, 0.77647059,\n",
              "        0.71372549, 0.96862745, 0.94509804, 0.        , 0.        ,\n",
              "        0.        , 0.        , 0.        , 0.        , 0.        ,\n",
              "        0.        , 0.        , 0.        ],\n",
              "       [0.        , 0.        , 0.        , 0.        , 0.        ,\n",
              "        0.        , 0.        , 0.        , 0.31372549, 0.61176471,\n",
              "        0.41960784, 0.99215686, 0.99215686, 0.80392157, 0.04313725,\n",
              "        0.        , 0.16862745, 0.60392157, 0.        , 0.        ,\n",
              "        0.        , 0.        , 0.        , 0.        , 0.        ,\n",
              "        0.        , 0.        , 0.        ],\n",
              "       [0.        , 0.        , 0.        , 0.        , 0.        ,\n",
              "        0.        , 0.        , 0.        , 0.        , 0.05490196,\n",
              "        0.00392157, 0.60392157, 0.99215686, 0.35294118, 0.        ,\n",
              "        0.        , 0.        , 0.        , 0.        , 0.        ,\n",
              "        0.        , 0.        , 0.        , 0.        , 0.        ,\n",
              "        0.        , 0.        , 0.        ],\n",
              "       [0.        , 0.        , 0.        , 0.        , 0.        ,\n",
              "        0.        , 0.        , 0.        , 0.        , 0.        ,\n",
              "        0.        , 0.54509804, 0.99215686, 0.74509804, 0.00784314,\n",
              "        0.        , 0.        , 0.        , 0.        , 0.        ,\n",
              "        0.        , 0.        , 0.        , 0.        , 0.        ,\n",
              "        0.        , 0.        , 0.        ],\n",
              "       [0.        , 0.        , 0.        , 0.        , 0.        ,\n",
              "        0.        , 0.        , 0.        , 0.        , 0.        ,\n",
              "        0.        , 0.04313725, 0.74509804, 0.99215686, 0.2745098 ,\n",
              "        0.        , 0.        , 0.        , 0.        , 0.        ,\n",
              "        0.        , 0.        , 0.        , 0.        , 0.        ,\n",
              "        0.        , 0.        , 0.        ],\n",
              "       [0.        , 0.        , 0.        , 0.        , 0.        ,\n",
              "        0.        , 0.        , 0.        , 0.        , 0.        ,\n",
              "        0.        , 0.        , 0.1372549 , 0.94509804, 0.88235294,\n",
              "        0.62745098, 0.42352941, 0.00392157, 0.        , 0.        ,\n",
              "        0.        , 0.        , 0.        , 0.        , 0.        ,\n",
              "        0.        , 0.        , 0.        ],\n",
              "       [0.        , 0.        , 0.        , 0.        , 0.        ,\n",
              "        0.        , 0.        , 0.        , 0.        , 0.        ,\n",
              "        0.        , 0.        , 0.        , 0.31764706, 0.94117647,\n",
              "        0.99215686, 0.99215686, 0.46666667, 0.09803922, 0.        ,\n",
              "        0.        , 0.        , 0.        , 0.        , 0.        ,\n",
              "        0.        , 0.        , 0.        ],\n",
              "       [0.        , 0.        , 0.        , 0.        , 0.        ,\n",
              "        0.        , 0.        , 0.        , 0.        , 0.        ,\n",
              "        0.        , 0.        , 0.        , 0.        , 0.17647059,\n",
              "        0.72941176, 0.99215686, 0.99215686, 0.58823529, 0.10588235,\n",
              "        0.        , 0.        , 0.        , 0.        , 0.        ,\n",
              "        0.        , 0.        , 0.        ],\n",
              "       [0.        , 0.        , 0.        , 0.        , 0.        ,\n",
              "        0.        , 0.        , 0.        , 0.        , 0.        ,\n",
              "        0.        , 0.        , 0.        , 0.        , 0.        ,\n",
              "        0.0627451 , 0.36470588, 0.98823529, 0.99215686, 0.73333333,\n",
              "        0.        , 0.        , 0.        , 0.        , 0.        ,\n",
              "        0.        , 0.        , 0.        ],\n",
              "       [0.        , 0.        , 0.        , 0.        , 0.        ,\n",
              "        0.        , 0.        , 0.        , 0.        , 0.        ,\n",
              "        0.        , 0.        , 0.        , 0.        , 0.        ,\n",
              "        0.        , 0.        , 0.97647059, 0.99215686, 0.97647059,\n",
              "        0.25098039, 0.        , 0.        , 0.        , 0.        ,\n",
              "        0.        , 0.        , 0.        ],\n",
              "       [0.        , 0.        , 0.        , 0.        , 0.        ,\n",
              "        0.        , 0.        , 0.        , 0.        , 0.        ,\n",
              "        0.        , 0.        , 0.        , 0.        , 0.18039216,\n",
              "        0.50980392, 0.71764706, 0.99215686, 0.99215686, 0.81176471,\n",
              "        0.00784314, 0.        , 0.        , 0.        , 0.        ,\n",
              "        0.        , 0.        , 0.        ],\n",
              "       [0.        , 0.        , 0.        , 0.        , 0.        ,\n",
              "        0.        , 0.        , 0.        , 0.        , 0.        ,\n",
              "        0.        , 0.        , 0.15294118, 0.58039216, 0.89803922,\n",
              "        0.99215686, 0.99215686, 0.99215686, 0.98039216, 0.71372549,\n",
              "        0.        , 0.        , 0.        , 0.        , 0.        ,\n",
              "        0.        , 0.        , 0.        ],\n",
              "       [0.        , 0.        , 0.        , 0.        , 0.        ,\n",
              "        0.        , 0.        , 0.        , 0.        , 0.        ,\n",
              "        0.09411765, 0.44705882, 0.86666667, 0.99215686, 0.99215686,\n",
              "        0.99215686, 0.99215686, 0.78823529, 0.30588235, 0.        ,\n",
              "        0.        , 0.        , 0.        , 0.        , 0.        ,\n",
              "        0.        , 0.        , 0.        ],\n",
              "       [0.        , 0.        , 0.        , 0.        , 0.        ,\n",
              "        0.        , 0.        , 0.        , 0.09019608, 0.25882353,\n",
              "        0.83529412, 0.99215686, 0.99215686, 0.99215686, 0.99215686,\n",
              "        0.77647059, 0.31764706, 0.00784314, 0.        , 0.        ,\n",
              "        0.        , 0.        , 0.        , 0.        , 0.        ,\n",
              "        0.        , 0.        , 0.        ],\n",
              "       [0.        , 0.        , 0.        , 0.        , 0.        ,\n",
              "        0.        , 0.07058824, 0.67058824, 0.85882353, 0.99215686,\n",
              "        0.99215686, 0.99215686, 0.99215686, 0.76470588, 0.31372549,\n",
              "        0.03529412, 0.        , 0.        , 0.        , 0.        ,\n",
              "        0.        , 0.        , 0.        , 0.        , 0.        ,\n",
              "        0.        , 0.        , 0.        ],\n",
              "       [0.        , 0.        , 0.        , 0.        , 0.21568627,\n",
              "        0.6745098 , 0.88627451, 0.99215686, 0.99215686, 0.99215686,\n",
              "        0.99215686, 0.95686275, 0.52156863, 0.04313725, 0.        ,\n",
              "        0.        , 0.        , 0.        , 0.        , 0.        ,\n",
              "        0.        , 0.        , 0.        , 0.        , 0.        ,\n",
              "        0.        , 0.        , 0.        ],\n",
              "       [0.        , 0.        , 0.        , 0.        , 0.53333333,\n",
              "        0.99215686, 0.99215686, 0.99215686, 0.83137255, 0.52941176,\n",
              "        0.51764706, 0.0627451 , 0.        , 0.        , 0.        ,\n",
              "        0.        , 0.        , 0.        , 0.        , 0.        ,\n",
              "        0.        , 0.        , 0.        , 0.        , 0.        ,\n",
              "        0.        , 0.        , 0.        ],\n",
              "       [0.        , 0.        , 0.        , 0.        , 0.        ,\n",
              "        0.        , 0.        , 0.        , 0.        , 0.        ,\n",
              "        0.        , 0.        , 0.        , 0.        , 0.        ,\n",
              "        0.        , 0.        , 0.        , 0.        , 0.        ,\n",
              "        0.        , 0.        , 0.        , 0.        , 0.        ,\n",
              "        0.        , 0.        , 0.        ],\n",
              "       [0.        , 0.        , 0.        , 0.        , 0.        ,\n",
              "        0.        , 0.        , 0.        , 0.        , 0.        ,\n",
              "        0.        , 0.        , 0.        , 0.        , 0.        ,\n",
              "        0.        , 0.        , 0.        , 0.        , 0.        ,\n",
              "        0.        , 0.        , 0.        , 0.        , 0.        ,\n",
              "        0.        , 0.        , 0.        ],\n",
              "       [0.        , 0.        , 0.        , 0.        , 0.        ,\n",
              "        0.        , 0.        , 0.        , 0.        , 0.        ,\n",
              "        0.        , 0.        , 0.        , 0.        , 0.        ,\n",
              "        0.        , 0.        , 0.        , 0.        , 0.        ,\n",
              "        0.        , 0.        , 0.        , 0.        , 0.        ,\n",
              "        0.        , 0.        , 0.        ]])"
            ]
          },
          "metadata": {},
          "execution_count": 14
        }
      ]
    },
    {
      "cell_type": "code",
      "source": [
        "model = Sequential()\n",
        "#for flatten 2D into 1D\n",
        "model.add(Flatten(input_shape=(28,28)))\n",
        "# for model Preparation\n",
        "model.add(Dense(128,activation='relu'))  #input / first hidden layer\n",
        "model.add(Dense(10,activation='softmax')) # output"
      ],
      "metadata": {
        "id": "prUdZ5n59PPz"
      },
      "execution_count": 32,
      "outputs": []
    },
    {
      "cell_type": "code",
      "source": [
        "model.summary()"
      ],
      "metadata": {
        "colab": {
          "base_uri": "https://localhost:8080/"
        },
        "id": "xEbxJFbi9PMe",
        "outputId": "ffac6fcd-c4ee-4c78-b2bf-0a1a1d527740"
      },
      "execution_count": 33,
      "outputs": [
        {
          "output_type": "stream",
          "name": "stdout",
          "text": [
            "Model: \"sequential_2\"\n",
            "_________________________________________________________________\n",
            " Layer (type)                Output Shape              Param #   \n",
            "=================================================================\n",
            " flatten_2 (Flatten)         (None, 784)               0         \n",
            "                                                                 \n",
            " dense_4 (Dense)             (None, 128)               100480    \n",
            "                                                                 \n",
            " dense_5 (Dense)             (None, 10)                1290      \n",
            "                                                                 \n",
            "=================================================================\n",
            "Total params: 101770 (397.54 KB)\n",
            "Trainable params: 101770 (397.54 KB)\n",
            "Non-trainable params: 0 (0.00 Byte)\n",
            "_________________________________________________________________\n"
          ]
        }
      ]
    },
    {
      "cell_type": "code",
      "source": [
        "model.compile(loss='sparse_categorical_crossentropy',optimizer='Adam',metrics=['accuracy'])"
      ],
      "metadata": {
        "id": "4Q2QsxmP_Jnd"
      },
      "execution_count": 34,
      "outputs": []
    },
    {
      "cell_type": "code",
      "source": [
        "history=model.fit(X_train,y_train,epochs=100,validation_split=0.2)"
      ],
      "metadata": {
        "colab": {
          "base_uri": "https://localhost:8080/"
        },
        "id": "ghL7ow3GAJMB",
        "outputId": "b9417cbb-09bc-4d96-de9d-913a6d638979"
      },
      "execution_count": 35,
      "outputs": [
        {
          "output_type": "stream",
          "name": "stdout",
          "text": [
            "Epoch 1/100\n",
            "1500/1500 [==============================] - 5s 3ms/step - loss: 0.2948 - accuracy: 0.9164 - val_loss: 0.1623 - val_accuracy: 0.9537\n",
            "Epoch 2/100\n",
            "1500/1500 [==============================] - 5s 3ms/step - loss: 0.1314 - accuracy: 0.9621 - val_loss: 0.1170 - val_accuracy: 0.9656\n",
            "Epoch 3/100\n",
            "1500/1500 [==============================] - 4s 3ms/step - loss: 0.0891 - accuracy: 0.9735 - val_loss: 0.1016 - val_accuracy: 0.9690\n",
            "Epoch 4/100\n",
            "1500/1500 [==============================] - 4s 3ms/step - loss: 0.0672 - accuracy: 0.9798 - val_loss: 0.0942 - val_accuracy: 0.9708\n",
            "Epoch 5/100\n",
            "1500/1500 [==============================] - 5s 3ms/step - loss: 0.0503 - accuracy: 0.9851 - val_loss: 0.0937 - val_accuracy: 0.9719\n",
            "Epoch 6/100\n",
            "1500/1500 [==============================] - 4s 3ms/step - loss: 0.0388 - accuracy: 0.9884 - val_loss: 0.1014 - val_accuracy: 0.9710\n",
            "Epoch 7/100\n",
            "1500/1500 [==============================] - 4s 3ms/step - loss: 0.0312 - accuracy: 0.9903 - val_loss: 0.0976 - val_accuracy: 0.9712\n",
            "Epoch 8/100\n",
            "1500/1500 [==============================] - 5s 3ms/step - loss: 0.0252 - accuracy: 0.9920 - val_loss: 0.0920 - val_accuracy: 0.9747\n",
            "Epoch 9/100\n",
            "1500/1500 [==============================] - 4s 3ms/step - loss: 0.0195 - accuracy: 0.9943 - val_loss: 0.1029 - val_accuracy: 0.9729\n",
            "Epoch 10/100\n",
            "1500/1500 [==============================] - 4s 3ms/step - loss: 0.0171 - accuracy: 0.9951 - val_loss: 0.0960 - val_accuracy: 0.9747\n",
            "Epoch 11/100\n",
            "1500/1500 [==============================] - 5s 3ms/step - loss: 0.0134 - accuracy: 0.9957 - val_loss: 0.1004 - val_accuracy: 0.9740\n",
            "Epoch 12/100\n",
            "1500/1500 [==============================] - 4s 3ms/step - loss: 0.0111 - accuracy: 0.9971 - val_loss: 0.1020 - val_accuracy: 0.9729\n",
            "Epoch 13/100\n",
            "1500/1500 [==============================] - 4s 3ms/step - loss: 0.0098 - accuracy: 0.9972 - val_loss: 0.0992 - val_accuracy: 0.9758\n",
            "Epoch 14/100\n",
            "1500/1500 [==============================] - 5s 3ms/step - loss: 0.0109 - accuracy: 0.9967 - val_loss: 0.1150 - val_accuracy: 0.9732\n",
            "Epoch 15/100\n",
            "1500/1500 [==============================] - 4s 3ms/step - loss: 0.0079 - accuracy: 0.9976 - val_loss: 0.1075 - val_accuracy: 0.9753\n",
            "Epoch 16/100\n",
            "1500/1500 [==============================] - 4s 3ms/step - loss: 0.0072 - accuracy: 0.9979 - val_loss: 0.1232 - val_accuracy: 0.9728\n",
            "Epoch 17/100\n",
            "1500/1500 [==============================] - 6s 4ms/step - loss: 0.0056 - accuracy: 0.9982 - val_loss: 0.1172 - val_accuracy: 0.9753\n",
            "Epoch 18/100\n",
            "1500/1500 [==============================] - 4s 3ms/step - loss: 0.0069 - accuracy: 0.9976 - val_loss: 0.1138 - val_accuracy: 0.9747\n",
            "Epoch 19/100\n",
            "1500/1500 [==============================] - 5s 3ms/step - loss: 0.0058 - accuracy: 0.9982 - val_loss: 0.1156 - val_accuracy: 0.9754\n",
            "Epoch 20/100\n",
            "1500/1500 [==============================] - 5s 4ms/step - loss: 0.0042 - accuracy: 0.9988 - val_loss: 0.1191 - val_accuracy: 0.9761\n",
            "Epoch 21/100\n",
            "1500/1500 [==============================] - 5s 3ms/step - loss: 0.0062 - accuracy: 0.9981 - val_loss: 0.1470 - val_accuracy: 0.9722\n",
            "Epoch 22/100\n",
            "1500/1500 [==============================] - 5s 3ms/step - loss: 0.0033 - accuracy: 0.9990 - val_loss: 0.1188 - val_accuracy: 0.9780\n",
            "Epoch 23/100\n",
            "1500/1500 [==============================] - 4s 3ms/step - loss: 0.0018 - accuracy: 0.9995 - val_loss: 0.1649 - val_accuracy: 0.9688\n",
            "Epoch 24/100\n",
            "1500/1500 [==============================] - 4s 3ms/step - loss: 0.0069 - accuracy: 0.9976 - val_loss: 0.1159 - val_accuracy: 0.9778\n",
            "Epoch 25/100\n",
            "1500/1500 [==============================] - 5s 3ms/step - loss: 0.0034 - accuracy: 0.9988 - val_loss: 0.1337 - val_accuracy: 0.9757\n",
            "Epoch 26/100\n",
            "1500/1500 [==============================] - 4s 3ms/step - loss: 0.0048 - accuracy: 0.9982 - val_loss: 0.1234 - val_accuracy: 0.9764\n",
            "Epoch 27/100\n",
            "1500/1500 [==============================] - 4s 3ms/step - loss: 0.0055 - accuracy: 0.9982 - val_loss: 0.1466 - val_accuracy: 0.9752\n",
            "Epoch 28/100\n",
            "1500/1500 [==============================] - 5s 3ms/step - loss: 0.0019 - accuracy: 0.9995 - val_loss: 0.1379 - val_accuracy: 0.9763\n",
            "Epoch 29/100\n",
            "1500/1500 [==============================] - 4s 3ms/step - loss: 0.0060 - accuracy: 0.9981 - val_loss: 0.1495 - val_accuracy: 0.9748\n",
            "Epoch 30/100\n",
            "1500/1500 [==============================] - 4s 3ms/step - loss: 0.0027 - accuracy: 0.9990 - val_loss: 0.1446 - val_accuracy: 0.9752\n",
            "Epoch 31/100\n",
            "1500/1500 [==============================] - 5s 3ms/step - loss: 0.0041 - accuracy: 0.9989 - val_loss: 0.1444 - val_accuracy: 0.9768\n",
            "Epoch 32/100\n",
            "1500/1500 [==============================] - 4s 3ms/step - loss: 0.0022 - accuracy: 0.9994 - val_loss: 0.1562 - val_accuracy: 0.9754\n",
            "Epoch 33/100\n",
            "1500/1500 [==============================] - 4s 3ms/step - loss: 0.0036 - accuracy: 0.9990 - val_loss: 0.1557 - val_accuracy: 0.9741\n",
            "Epoch 34/100\n",
            "1500/1500 [==============================] - 5s 3ms/step - loss: 0.0036 - accuracy: 0.9987 - val_loss: 0.1559 - val_accuracy: 0.9753\n",
            "Epoch 35/100\n",
            "1500/1500 [==============================] - 4s 3ms/step - loss: 0.0041 - accuracy: 0.9988 - val_loss: 0.1648 - val_accuracy: 0.9750\n",
            "Epoch 36/100\n",
            "1500/1500 [==============================] - 5s 3ms/step - loss: 0.0031 - accuracy: 0.9990 - val_loss: 0.1551 - val_accuracy: 0.9765\n",
            "Epoch 37/100\n",
            "1500/1500 [==============================] - 4s 3ms/step - loss: 0.0044 - accuracy: 0.9986 - val_loss: 0.1602 - val_accuracy: 0.9770\n",
            "Epoch 38/100\n",
            "1500/1500 [==============================] - 4s 3ms/step - loss: 3.5148e-04 - accuracy: 0.9999 - val_loss: 0.1556 - val_accuracy: 0.9768\n",
            "Epoch 39/100\n",
            "1500/1500 [==============================] - 5s 4ms/step - loss: 0.0036 - accuracy: 0.9989 - val_loss: 0.1702 - val_accuracy: 0.9759\n",
            "Epoch 40/100\n",
            "1500/1500 [==============================] - 4s 3ms/step - loss: 0.0056 - accuracy: 0.9981 - val_loss: 0.1677 - val_accuracy: 0.9753\n",
            "Epoch 41/100\n",
            "1500/1500 [==============================] - 4s 3ms/step - loss: 0.0023 - accuracy: 0.9992 - val_loss: 0.1809 - val_accuracy: 0.9742\n",
            "Epoch 42/100\n",
            "1500/1500 [==============================] - 5s 3ms/step - loss: 0.0034 - accuracy: 0.9988 - val_loss: 0.1890 - val_accuracy: 0.9736\n",
            "Epoch 43/100\n",
            "1500/1500 [==============================] - 4s 3ms/step - loss: 0.0025 - accuracy: 0.9990 - val_loss: 0.1649 - val_accuracy: 0.9772\n",
            "Epoch 44/100\n",
            "1500/1500 [==============================] - 4s 3ms/step - loss: 5.7217e-04 - accuracy: 0.9998 - val_loss: 0.1742 - val_accuracy: 0.9752\n",
            "Epoch 45/100\n",
            "1500/1500 [==============================] - 5s 3ms/step - loss: 0.0049 - accuracy: 0.9984 - val_loss: 0.1640 - val_accuracy: 0.9780\n",
            "Epoch 46/100\n",
            "1500/1500 [==============================] - 4s 3ms/step - loss: 0.0024 - accuracy: 0.9993 - val_loss: 0.1746 - val_accuracy: 0.9765\n",
            "Epoch 47/100\n",
            "1500/1500 [==============================] - 4s 3ms/step - loss: 0.0038 - accuracy: 0.9989 - val_loss: 0.1874 - val_accuracy: 0.9751\n",
            "Epoch 48/100\n",
            "1500/1500 [==============================] - 5s 3ms/step - loss: 0.0024 - accuracy: 0.9994 - val_loss: 0.1998 - val_accuracy: 0.9742\n",
            "Epoch 49/100\n",
            "1500/1500 [==============================] - 4s 3ms/step - loss: 6.3895e-04 - accuracy: 0.9999 - val_loss: 0.1786 - val_accuracy: 0.9761\n",
            "Epoch 50/100\n",
            "1500/1500 [==============================] - 4s 3ms/step - loss: 0.0046 - accuracy: 0.9984 - val_loss: 0.1957 - val_accuracy: 0.9762\n",
            "Epoch 51/100\n",
            "1500/1500 [==============================] - 5s 3ms/step - loss: 0.0029 - accuracy: 0.9989 - val_loss: 0.1851 - val_accuracy: 0.9764\n",
            "Epoch 52/100\n",
            "1500/1500 [==============================] - 4s 3ms/step - loss: 3.7053e-04 - accuracy: 0.9999 - val_loss: 0.1781 - val_accuracy: 0.9772\n",
            "Epoch 53/100\n",
            "1500/1500 [==============================] - 5s 3ms/step - loss: 0.0027 - accuracy: 0.9993 - val_loss: 0.1871 - val_accuracy: 0.9764\n",
            "Epoch 54/100\n",
            "1500/1500 [==============================] - 5s 3ms/step - loss: 0.0037 - accuracy: 0.9989 - val_loss: 0.1915 - val_accuracy: 0.9755\n",
            "Epoch 55/100\n",
            "1500/1500 [==============================] - 4s 3ms/step - loss: 0.0024 - accuracy: 0.9992 - val_loss: 0.1945 - val_accuracy: 0.9759\n",
            "Epoch 56/100\n",
            "1500/1500 [==============================] - 5s 3ms/step - loss: 0.0016 - accuracy: 0.9996 - val_loss: 0.1890 - val_accuracy: 0.9761\n",
            "Epoch 57/100\n",
            "1500/1500 [==============================] - 4s 3ms/step - loss: 0.0042 - accuracy: 0.9989 - val_loss: 0.1941 - val_accuracy: 0.9754\n",
            "Epoch 58/100\n",
            "1500/1500 [==============================] - 4s 3ms/step - loss: 3.4331e-04 - accuracy: 1.0000 - val_loss: 0.1837 - val_accuracy: 0.9772\n",
            "Epoch 59/100\n",
            "1500/1500 [==============================] - 5s 3ms/step - loss: 3.2400e-05 - accuracy: 1.0000 - val_loss: 0.1817 - val_accuracy: 0.9787\n",
            "Epoch 60/100\n",
            "1500/1500 [==============================] - 4s 3ms/step - loss: 1.3029e-05 - accuracy: 1.0000 - val_loss: 0.1821 - val_accuracy: 0.9783\n",
            "Epoch 61/100\n",
            "1500/1500 [==============================] - 4s 3ms/step - loss: 7.7053e-06 - accuracy: 1.0000 - val_loss: 0.1832 - val_accuracy: 0.9783\n",
            "Epoch 62/100\n",
            "1500/1500 [==============================] - 5s 3ms/step - loss: 5.8157e-06 - accuracy: 1.0000 - val_loss: 0.1840 - val_accuracy: 0.9791\n",
            "Epoch 63/100\n",
            "1500/1500 [==============================] - 4s 3ms/step - loss: 0.0078 - accuracy: 0.9980 - val_loss: 0.2247 - val_accuracy: 0.9754\n",
            "Epoch 64/100\n",
            "1500/1500 [==============================] - 4s 3ms/step - loss: 0.0025 - accuracy: 0.9992 - val_loss: 0.1909 - val_accuracy: 0.9756\n",
            "Epoch 65/100\n",
            "1500/1500 [==============================] - 5s 3ms/step - loss: 0.0028 - accuracy: 0.9992 - val_loss: 0.2038 - val_accuracy: 0.9758\n",
            "Epoch 66/100\n",
            "1500/1500 [==============================] - 4s 3ms/step - loss: 0.0030 - accuracy: 0.9988 - val_loss: 0.1956 - val_accuracy: 0.9769\n",
            "Epoch 67/100\n",
            "1500/1500 [==============================] - 4s 3ms/step - loss: 4.8889e-04 - accuracy: 0.9998 - val_loss: 0.1952 - val_accuracy: 0.9764\n",
            "Epoch 68/100\n",
            "1500/1500 [==============================] - 5s 3ms/step - loss: 0.0044 - accuracy: 0.9987 - val_loss: 0.2083 - val_accuracy: 0.9760\n",
            "Epoch 69/100\n",
            "1500/1500 [==============================] - 4s 3ms/step - loss: 0.0027 - accuracy: 0.9991 - val_loss: 0.2232 - val_accuracy: 0.9743\n",
            "Epoch 70/100\n",
            "1500/1500 [==============================] - 4s 3ms/step - loss: 9.2361e-04 - accuracy: 0.9997 - val_loss: 0.1836 - val_accuracy: 0.9787\n",
            "Epoch 71/100\n",
            "1500/1500 [==============================] - 5s 3ms/step - loss: 6.5862e-05 - accuracy: 1.0000 - val_loss: 0.1940 - val_accuracy: 0.9776\n",
            "Epoch 72/100\n",
            "1500/1500 [==============================] - 4s 3ms/step - loss: 0.0059 - accuracy: 0.9983 - val_loss: 0.2109 - val_accuracy: 0.9763\n",
            "Epoch 73/100\n",
            "1500/1500 [==============================] - 4s 3ms/step - loss: 0.0019 - accuracy: 0.9994 - val_loss: 0.2205 - val_accuracy: 0.9765\n",
            "Epoch 74/100\n",
            "1500/1500 [==============================] - 5s 3ms/step - loss: 0.0026 - accuracy: 0.9992 - val_loss: 0.2039 - val_accuracy: 0.9757\n",
            "Epoch 75/100\n",
            "1500/1500 [==============================] - 4s 3ms/step - loss: 0.0017 - accuracy: 0.9994 - val_loss: 0.2090 - val_accuracy: 0.9774\n",
            "Epoch 76/100\n",
            "1500/1500 [==============================] - 5s 3ms/step - loss: 0.0028 - accuracy: 0.9991 - val_loss: 0.1963 - val_accuracy: 0.9772\n",
            "Epoch 77/100\n",
            "1500/1500 [==============================] - 4s 3ms/step - loss: 0.0014 - accuracy: 0.9996 - val_loss: 0.2158 - val_accuracy: 0.9745\n",
            "Epoch 78/100\n",
            "1500/1500 [==============================] - 4s 3ms/step - loss: 0.0024 - accuracy: 0.9993 - val_loss: 0.2046 - val_accuracy: 0.9772\n",
            "Epoch 79/100\n",
            "1500/1500 [==============================] - 5s 3ms/step - loss: 0.0022 - accuracy: 0.9993 - val_loss: 0.2467 - val_accuracy: 0.9736\n",
            "Epoch 80/100\n",
            "1500/1500 [==============================] - 4s 3ms/step - loss: 0.0028 - accuracy: 0.9991 - val_loss: 0.2328 - val_accuracy: 0.9753\n",
            "Epoch 81/100\n",
            "1500/1500 [==============================] - 4s 3ms/step - loss: 0.0023 - accuracy: 0.9994 - val_loss: 0.2410 - val_accuracy: 0.9753\n",
            "Epoch 82/100\n",
            "1500/1500 [==============================] - 6s 4ms/step - loss: 0.0019 - accuracy: 0.9995 - val_loss: 0.2190 - val_accuracy: 0.9780\n",
            "Epoch 83/100\n",
            "1500/1500 [==============================] - 4s 3ms/step - loss: 0.0028 - accuracy: 0.9990 - val_loss: 0.2204 - val_accuracy: 0.9761\n",
            "Epoch 84/100\n",
            "1500/1500 [==============================] - 4s 3ms/step - loss: 3.7672e-04 - accuracy: 0.9999 - val_loss: 0.1997 - val_accuracy: 0.9802\n",
            "Epoch 85/100\n",
            "1500/1500 [==============================] - 5s 3ms/step - loss: 2.4540e-05 - accuracy: 1.0000 - val_loss: 0.1950 - val_accuracy: 0.9801\n",
            "Epoch 86/100\n",
            "1500/1500 [==============================] - 4s 3ms/step - loss: 7.0202e-06 - accuracy: 1.0000 - val_loss: 0.1970 - val_accuracy: 0.9803\n",
            "Epoch 87/100\n",
            "1500/1500 [==============================] - 4s 3ms/step - loss: 3.4560e-06 - accuracy: 1.0000 - val_loss: 0.1974 - val_accuracy: 0.9797\n",
            "Epoch 88/100\n",
            "1500/1500 [==============================] - 5s 3ms/step - loss: 2.2620e-06 - accuracy: 1.0000 - val_loss: 0.1973 - val_accuracy: 0.9798\n",
            "Epoch 89/100\n",
            "1500/1500 [==============================] - 4s 3ms/step - loss: 1.5051e-06 - accuracy: 1.0000 - val_loss: 0.1985 - val_accuracy: 0.9801\n",
            "Epoch 90/100\n",
            "1500/1500 [==============================] - 5s 3ms/step - loss: 1.0509e-06 - accuracy: 1.0000 - val_loss: 0.2009 - val_accuracy: 0.9795\n",
            "Epoch 91/100\n",
            "1500/1500 [==============================] - 5s 3ms/step - loss: 0.0060 - accuracy: 0.9985 - val_loss: 0.2337 - val_accuracy: 0.9764\n",
            "Epoch 92/100\n",
            "1500/1500 [==============================] - 4s 3ms/step - loss: 0.0014 - accuracy: 0.9996 - val_loss: 0.2387 - val_accuracy: 0.9768\n",
            "Epoch 93/100\n",
            "1500/1500 [==============================] - 5s 3ms/step - loss: 0.0021 - accuracy: 0.9993 - val_loss: 0.2470 - val_accuracy: 0.9765\n",
            "Epoch 94/100\n",
            "1500/1500 [==============================] - 4s 3ms/step - loss: 0.0015 - accuracy: 0.9995 - val_loss: 0.2355 - val_accuracy: 0.9763\n",
            "Epoch 95/100\n",
            "1500/1500 [==============================] - 4s 3ms/step - loss: 0.0028 - accuracy: 0.9992 - val_loss: 0.2532 - val_accuracy: 0.9756\n",
            "Epoch 96/100\n",
            "1500/1500 [==============================] - 5s 3ms/step - loss: 0.0021 - accuracy: 0.9993 - val_loss: 0.2487 - val_accuracy: 0.9774\n",
            "Epoch 97/100\n",
            "1500/1500 [==============================] - 4s 3ms/step - loss: 0.0013 - accuracy: 0.9996 - val_loss: 0.2770 - val_accuracy: 0.9736\n",
            "Epoch 98/100\n",
            "1500/1500 [==============================] - 4s 3ms/step - loss: 0.0020 - accuracy: 0.9994 - val_loss: 0.2549 - val_accuracy: 0.9760\n",
            "Epoch 99/100\n",
            "1500/1500 [==============================] - 5s 3ms/step - loss: 0.0031 - accuracy: 0.9991 - val_loss: 0.2612 - val_accuracy: 0.9743\n",
            "Epoch 100/100\n",
            "1500/1500 [==============================] - 4s 3ms/step - loss: 7.8530e-04 - accuracy: 0.9998 - val_loss: 0.2411 - val_accuracy: 0.9782\n"
          ]
        }
      ]
    },
    {
      "cell_type": "code",
      "source": [
        "y_prob = model.predict(X_test)"
      ],
      "metadata": {
        "colab": {
          "base_uri": "https://localhost:8080/"
        },
        "id": "9T_ErwonAuCR",
        "outputId": "8a8e54ab-4de2-4739-b240-23761a1e8f26"
      },
      "execution_count": 36,
      "outputs": [
        {
          "output_type": "stream",
          "name": "stdout",
          "text": [
            "313/313 [==============================] - 1s 2ms/step\n"
          ]
        }
      ]
    },
    {
      "cell_type": "code",
      "source": [
        "y_pred = y_prob.argmax(axis=1)"
      ],
      "metadata": {
        "id": "IZZt78uRA4ZE"
      },
      "execution_count": 37,
      "outputs": []
    },
    {
      "cell_type": "code",
      "source": [
        "from sklearn.metrics import accuracy_score\n",
        "accuracy_score(y_test,y_pred)"
      ],
      "metadata": {
        "colab": {
          "base_uri": "https://localhost:8080/"
        },
        "id": "1r4lMNXiBHAD",
        "outputId": "e5694d40-e4e1-4b85-d2f8-fc75e3112fd4"
      },
      "execution_count": 38,
      "outputs": [
        {
          "output_type": "execute_result",
          "data": {
            "text/plain": [
              "0.9785"
            ]
          },
          "metadata": {},
          "execution_count": 38
        }
      ]
    },
    {
      "cell_type": "code",
      "source": [
        "plt.plot(history.history['loss'])\n",
        "plt.plot(history.history['val_loss'])"
      ],
      "metadata": {
        "colab": {
          "base_uri": "https://localhost:8080/",
          "height": 447
        },
        "id": "D_LuuCPZBZmY",
        "outputId": "362e1496-fe50-4c23-c64c-0389f84311cd"
      },
      "execution_count": 39,
      "outputs": [
        {
          "output_type": "execute_result",
          "data": {
            "text/plain": [
              "[<matplotlib.lines.Line2D at 0x7928eb4e8730>]"
            ]
          },
          "metadata": {},
          "execution_count": 39
        },
        {
          "output_type": "display_data",
          "data": {
            "text/plain": [
              "<Figure size 640x480 with 1 Axes>"
            ],
            "image/png": "[encoded data removed]"
          },
          "metadata": {}
        }
      ]
    },
    {
      "cell_type": "code",
      "source": [
        "plt.plot(history.history['accuracy'])\n",
        "plt.plot(history.history['val_accuracy'])"
      ],
      "metadata": {
        "colab": {
          "base_uri": "https://localhost:8080/",
          "height": 447
        },
        "id": "et_qajW1COH7",
        "outputId": "70cf43fb-9135-434a-e181-14b9b5e894c8"
      },
      "execution_count": 40,
      "outputs": [
        {
          "output_type": "execute_result",
          "data": {
            "text/plain": [
              "[<matplotlib.lines.Line2D at 0x7928eb30a3e0>]"
            ]
          },
          "metadata": {},
          "execution_count": 40
        },
        {
          "output_type": "display_data",
          "data": {
            "text/plain": [
              "<Figure size 640x480 with 1 Axes>"
            ],
            "image/png": "[encoded data removed]"
          },
          "metadata": {}
        }
      ]
    },
    {
      "cell_type": "code",
      "source": [
        "plt.imshow(X_test[1])"
      ],
      "metadata": {
        "colab": {
          "base_uri": "https://localhost:8080/",
          "height": 447
        },
        "id": "FErHLc3tFCLp",
        "outputId": "82e3388c-cc97-4707-94c1-e8cda288248e"
      },
      "execution_count": 41,
      "outputs": [
        {
          "output_type": "execute_result",
          "data": {
            "text/plain": [
              "<matplotlib.image.AxesImage at 0x7928eb1e4c40>"
            ]
          },
          "metadata": {},
          "execution_count": 41
        },
        {
          "output_type": "display_data",
          "data": {
            "text/plain": [
              "<Figure size 640x480 with 1 Axes>"
            ],
            "image/png": "[encoded data removed]"
          },
          "metadata": {}
        }
      ]
    },
    {
      "cell_type": "code",
      "source": [
        "model.predict(X_test[1].reshape(1,28,28)).argmax(axis=1)"
      ],
      "metadata": {
        "colab": {
          "base_uri": "https://localhost:8080/"
        },
        "id": "lJtsBl22FJSm",
        "outputId": "8e2fd257-1151-4953-80f7-5b96cbd360eb"
      },
      "execution_count": 42,
      "outputs": [
        {
          "output_type": "stream",
          "name": "stdout",
          "text": [
            "1/1 [==============================] - 0s 53ms/step\n"
          ]
        },
        {
          "output_type": "execute_result",
          "data": {
            "text/plain": [
              "array([2])"
            ]
          },
          "metadata": {},
          "execution_count": 42
        }
      ]
    }
  ]
}